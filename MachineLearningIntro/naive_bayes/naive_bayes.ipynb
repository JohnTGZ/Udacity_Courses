{
 "cells": [
  {
   "cell_type": "code",
   "execution_count": null,
   "metadata": {},
   "outputs": [],
   "source": [
    "#Set up for interactive plots in jupyter notebooks\n",
    "%matplotlib inline"
   ]
  },
  {
   "cell_type": "code",
   "execution_count": null,
   "metadata": {},
   "outputs": [],
   "source": [
    "# Baye's Theorem\n",
    "# P(A|B) = ( P(B|A) * P(A) ) / P(B)\n",
    "\n",
    "#Posterior = (likelihood * prior) / normalizing_constant\n",
    "\n",
    "#P (Alex | Red ) = P(Red | Alex) / P(red)\n",
    "#P (Alex | Red ) = (P(Red | Alex) * P(alex)) / (P(Red | Alex) + P(Red | Brenda))\n",
    "\n",
    "P_A = \n",
    "P_A_A, P_A_B = \n",
    "\n",
    "P_B =\n",
    "P_B_A, P_B_B = \n",
    "\n",
    "def bayes(prob_a, prob_b):\n",
    " "
   ]
  },
  {
   "cell_type": "markdown",
   "metadata": {},
   "source": []
  }
 ],
 "metadata": {
  "interpreter": {
   "hash": "31f2aee4e71d21fbe5cf8b01ff0e069b9275f58929596ceb00d14d90e3e16cd6"
  },
  "kernelspec": {
   "display_name": "Python 3.8.10 64-bit",
   "language": "python",
   "name": "python3"
  },
  "language_info": {
   "codemirror_mode": {
    "name": "ipython",
    "version": 3
   },
   "file_extension": ".py",
   "mimetype": "text/x-python",
   "name": "python",
   "nbconvert_exporter": "python",
   "pygments_lexer": "ipython3",
   "version": "3.8.10"
  },
  "orig_nbformat": 4
 },
 "nbformat": 4,
 "nbformat_minor": 2
}
